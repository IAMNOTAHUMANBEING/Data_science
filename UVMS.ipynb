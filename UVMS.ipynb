{
 "cells": [
  {
   "cell_type": "code",
   "execution_count": 32,
   "metadata": {
    "ExecuteTime": {
     "end_time": "2022-12-02T10:44:16.798760Z",
     "start_time": "2022-12-02T10:44:16.749051Z"
    }
   },
   "outputs": [
    {
     "name": "stdout",
     "output_type": "stream",
     "text": [
      "[set(), set()]\n"
     ]
    }
   ],
   "source": [
    "# 그래프 구성\n",
    "\n",
    "# 기존 그래프\n",
    "graph = {\"철수\":[\"영희\",\"민수\"], \"영희\":[\"민수\"], \"민수\":[]}\n",
    "cycle = []\n",
    "\n",
    "# 입력값\n",
    "from_name = \"민수\"\n",
    "to_name = \"철수\"\n",
    "\n",
    "# 추가\n",
    "graph[from_name].append(to_name)\n",
    "\n",
    "# 순환 탐색\n",
    "traced = set()\n",
    "visited = set()\n",
    "\n",
    "def find_cycle_dfs(i):\n",
    "    # 순환구조라면 F\n",
    "    if i in traced:\n",
    "        cycle.append(traced)\n",
    "        return False\n",
    "    # 방문했던 노드라면 T\n",
    "    if i in visited:\n",
    "        return True\n",
    "    \n",
    "    # 순환 후보에 넣기\n",
    "    traced.add(i)\n",
    "    \n",
    "    # 자식 노드 dfs\n",
    "    for j in graph[i]:\n",
    "        if not find_cycle_dfs(j):\n",
    "            return False\n",
    "    \n",
    "    # 탐색 종료 후 순환 목록에서 삭제\n",
    "    traced.remove(i)\n",
    "    # 탐색 종료 후 방문 목록에 추가\n",
    "    visited.add(i)\n",
    "    \n",
    "    return True\n",
    "\n",
    "# 순환구조판별\n",
    "if not find_cycle_dfs(from_name):\n",
    "    print(cycle)\n",
    "\n",
    "# 삭제\n"
   ]
  },
  {
   "cell_type": "code",
   "execution_count": null,
   "metadata": {},
   "outputs": [],
   "source": []
  }
 ],
 "metadata": {
  "kernelspec": {
   "display_name": "Python 3",
   "language": "python",
   "name": "python3"
  },
  "language_info": {
   "codemirror_mode": {
    "name": "ipython",
    "version": 3
   },
   "file_extension": ".py",
   "mimetype": "text/x-python",
   "name": "python",
   "nbconvert_exporter": "python",
   "pygments_lexer": "ipython3",
   "version": "3.7.4"
  },
  "toc": {
   "base_numbering": 1,
   "nav_menu": {},
   "number_sections": true,
   "sideBar": true,
   "skip_h1_title": false,
   "title_cell": "Table of Contents",
   "title_sidebar": "Contents",
   "toc_cell": false,
   "toc_position": {},
   "toc_section_display": true,
   "toc_window_display": false
  }
 },
 "nbformat": 4,
 "nbformat_minor": 4
}
