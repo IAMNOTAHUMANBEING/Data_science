{
 "cells": [
  {
   "cell_type": "markdown",
   "metadata": {},
   "source": [
    "# 왜 파이썬인가?\n",
    "## 파이썬이란?\n",
    "특징을 금융분석 책, 알고리즘 책 등 참고하여 추가\n",
    "(스크립트 언어, 동적타이핑, 파이썬의 구조체(dataclass), )\n",
    "- 타 언어 대비 같은 기능 구현 시 문법이 간결한 편\n",
    "- 동적 타이핑으로 인한 문법적 유연함\n",
    "- 언어레벨에서 풍부한 기능 지원\n",
    "- 중괄호 대신 인덴트로 처리하여 읽기 쉬움"
   ]
  },
  {
   "cell_type": "markdown",
   "metadata": {},
   "source": [
    "# 문법"
   ]
  },
  {
   "cell_type": "markdown",
   "metadata": {},
   "source": [
    "## 인덴트\n",
    "- 공식 파이썬 코딩 스타일 가이드인 PEP8에 따라 공백 4칸 원칙(강제는 아님)"
   ]
  },
  {
   "cell_type": "markdown",
   "metadata": {},
   "source": [
    "## 네이밍 컨벤션\n",
    "- 스네이크 케이스: 각 단어를 _ 로 구분, 파이썬에서 사용 ex. snake_case\n",
    "- 카멜 케이스: 각 단어를 대문자로 구분, 자바에서 사용 ex. camelCase"
   ]
  },
  {
   "cell_type": "markdown",
   "metadata": {},
   "source": [
    "## 타입 힌트\n",
    "- 동적 타이핑 언어임에도 타입을 지정하는 타입 힌트 기능 지원. ex. def fn(a: int) -> bool:\n",
    "- 실제 규약은 아니므로 여전히 동적으로 할당 가능함에 주의\n",
    "- mypy를 이용해 타입 힌트에 오류가 없는지 자동으로 확인가능"
   ]
  },
  {
   "cell_type": "code",
   "execution_count": null,
   "metadata": {},
   "outputs": [],
   "source": []
  },
  {
   "cell_type": "code",
   "execution_count": null,
   "metadata": {},
   "outputs": [],
   "source": []
  },
  {
   "cell_type": "markdown",
   "metadata": {},
   "source": []
  },
  {
   "cell_type": "markdown",
   "metadata": {},
   "source": [
    "## 디버깅\n",
    "\n",
    "REPL\n",
    "\n",
    "print, pprint"
   ]
  },
  {
   "cell_type": "code",
   "execution_count": 1,
   "metadata": {},
   "outputs": [
    {
     "name": "stdout",
     "output_type": "stream",
     "text": [
      "\n",
      "{'In': ['', 'import pprint\\n\\nprint()\\npprint.pprint(locals())'],\n",
      " 'Out': {},\n",
      " '_': '',\n",
      " '__': '',\n",
      " '___': '',\n",
      " '__builtin__': <module 'builtins' (built-in)>,\n",
      " '__builtins__': <module 'builtins' (built-in)>,\n",
      " '__doc__': 'Automatically created module for IPython interactive environment',\n",
      " '__loader__': None,\n",
      " '__name__': '__main__',\n",
      " '__package__': None,\n",
      " '__spec__': None,\n",
      " '_dh': ['/workspace/Python'],\n",
      " '_i': '',\n",
      " '_i1': 'import pprint\\n\\nprint()\\npprint.pprint(locals())',\n",
      " '_ih': ['', 'import pprint\\n\\nprint()\\npprint.pprint(locals())'],\n",
      " '_ii': '',\n",
      " '_iii': '',\n",
      " '_oh': {},\n",
      " 'exit': <IPython.core.autocall.ZMQExitAutocall object at 0x7f00f4f44c50>,\n",
      " 'get_ipython': <bound method InteractiveShell.get_ipython of <ipykernel.zmqshell.ZMQInteractiveShell object at 0x7f00f5fcee10>>,\n",
      " 'pprint': <module 'pprint' from '/usr/local/lib/python3.7/pprint.py'>,\n",
      " 'quit': <IPython.core.autocall.ZMQExitAutocall object at 0x7f00f4f44c50>}\n"
     ]
    }
   ],
   "source": [
    "import pprint\n",
    "\n",
    "print()\n",
    "pprint.pprint(locals())"
   ]
  },
  {
   "cell_type": "code",
   "execution_count": null,
   "metadata": {},
   "outputs": [],
   "source": []
  }
 ],
 "metadata": {
  "kernelspec": {
   "display_name": "Python 3",
   "language": "python",
   "name": "python3"
  },
  "language_info": {
   "codemirror_mode": {
    "name": "ipython",
    "version": 3
   },
   "file_extension": ".py",
   "mimetype": "text/x-python",
   "name": "python",
   "nbconvert_exporter": "python",
   "pygments_lexer": "ipython3",
   "version": "3.7.4"
  }
 },
 "nbformat": 4,
 "nbformat_minor": 4
}
