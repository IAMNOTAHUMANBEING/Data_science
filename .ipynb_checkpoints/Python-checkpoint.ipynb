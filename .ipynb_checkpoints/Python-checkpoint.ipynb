{
 "cells": [
  {
   "cell_type": "markdown",
   "metadata": {},
   "source": [
    "# 왜 파이썬인가?\n",
    "## 파이썬이란?\n",
    "특징을 금융분석 책, 알고리즘 책 등 참고하여 추가\n",
    "(스크립트 언어, 동적타이핑, 파이썬의 구조체(dataclass), )\n",
    "- 타 언어 대비 같은 기능 구현 시 문법이 간결한 편\n",
    "- 동적 타이핑으로 인한 문법적 유연함\n",
    "- 언어레벨에서 풍부한 기능 지원\n",
    "- 중괄호 대신 인덴트로 처리하여 읽기 쉬움"
   ]
  },
  {
   "cell_type": "markdown",
   "metadata": {},
   "source": [
    "## 인덴트\n",
    "- 공식 파이썬 코딩 스타일 가이드인 PEP8에 따라 공백 4칸 원칙(강제는 아님)"
   ]
  },
  {
   "cell_type": "markdown",
   "metadata": {},
   "source": [
    "## 네이밍 컨벤션\n",
    "- 스네이크 케이스: 각 단어를 _ 로 구분, 파이썬에서 사용 ex. snake_case\n",
    "- 카멜 케이스: 각 단어를 대문자로 구분, 자바에서 사용 ex. camelCase"
   ]
  },
  {
   "cell_type": "markdown",
   "metadata": {},
   "source": [
    "## 타입 힌트\n",
    "- 동적 타이핑 언어임에도 타입을 지정하는 타입 힌트 기능 지원 ex. def fn(a: int) -> bool:\n",
    "- 실제 규약은 아니므로 여전히 동적으로 할당 가능함에 주의\n",
    "- mypy를 이용해 타입 힌트에 오류가 없는지 자동으로 확인가능"
   ]
  },
  {
   "cell_type": "markdown",
   "metadata": {},
   "source": [
    "# 함수\n",
    "- 매개변수(parameter): 함수에 입력으로 전달된 값을 받는 변수(파이썬에선 함수도 일급객체라서 변수에 할당하거나 매개변수로 넘길 수 있음)\n",
    "- 인수(arguments): 함수를 호출할 때 전달하는 입력값\n",
    "- 디폴트 매개변수: 매개변수에 디폴트 값을 지정할 때, 기본 매개변수 뒤에는 일반 매개변수가 올 수 없음\n",
    "- 가변 매개변수: 매개변수 수가 유동적으로 변할 때, 앞에 * 붙임\n",
    "- 키워드 매개변수: 입력값을 딕셔너리로 만들어서 저장, 앞에 ** 붙임"
   ]
  },
  {
   "cell_type": "markdown",
   "metadata": {},
   "source": [
    "## 재귀함수"
   ]
  },
  {
   "cell_type": "markdown",
   "metadata": {},
   "source": [
    "### 메모화"
   ]
  },
  {
   "cell_type": "markdown",
   "metadata": {},
   "source": [
    "## 콜백함수와 map, filter, lambda\n",
    "- 콜백함수: 함수에서 함수를 호출하는 경우\n",
    "- lambda: 콜백함수 간단하게 구현 가능하게 함\n",
    "\n",
    "함수를 인수로 전달하는 내장함수\n",
    "- map: 리스트의 요소를 함수에 넣고 리턴된 값으로 새로운 리스트를 구성\n",
    "- filter: 리스트의 요소를 함수에 넣고 리턴된 값이 True 인 것으로 새로운 리스트를 구성"
   ]
  },
  {
   "cell_type": "code",
   "execution_count": 5,
   "metadata": {
    "scrolled": true
   },
   "outputs": [
    {
     "name": "stdout",
     "output_type": "stream",
     "text": [
      "숫자세기 0\n",
      "숫자세기 1\n",
      "숫자세기 2\n",
      "숫자세기 3\n",
      "숫자세기 4\n"
     ]
    }
   ],
   "source": [
    "# 콜백함수\n",
    "def update(func):\n",
    "    for i in range(5):\n",
    "        func(i)\n",
    "\n",
    "\n",
    "def count(num):\n",
    "    print(\"숫자세기\", num)\n",
    "\n",
    "\n",
    "update(count)"
   ]
  },
  {
   "cell_type": "code",
   "execution_count": 6,
   "metadata": {},
   "outputs": [
    {
     "name": "stdout",
     "output_type": "stream",
     "text": [
      "[0, 2, 4, 6, 8]\n",
      "[0, 2, 4, 6, 8]\n"
     ]
    }
   ],
   "source": [
    "nums = list(range(10))\n",
    "\n",
    "# 함수\n",
    "def even(num):\n",
    "    return num % 2 == 0\n",
    "\n",
    "print(list(filter(even, nums)))\n",
    "\n",
    "# \n",
    "print(list(filter(lambda num: num % 2 == 0, nums)))       "
   ]
  },
  {
   "cell_type": "markdown",
   "metadata": {},
   "source": [
    "## 리스트 컴프리헨션\n",
    "- 기존 리스트를 기반으로 새로운 리스트를 만들어내는 구문\n",
    "- 람다 표현식에 map, filter를 섞어서 사용하는 것에 비해 가독성이 높음\n",
    "- 딕셔너리도 가능"
   ]
  },
  {
   "cell_type": "code",
   "execution_count": null,
   "metadata": {},
   "outputs": [],
   "source": [
    "# 사용 안한 경우\n",
    "a = {}"
   ]
  },
  {
   "cell_type": "markdown",
   "metadata": {},
   "source": []
  },
  {
   "cell_type": "markdown",
   "metadata": {},
   "source": [
    "## 디버깅\n",
    "\n",
    "REPL\n",
    "\n",
    "print, pprint"
   ]
  },
  {
   "cell_type": "code",
   "execution_count": 1,
   "metadata": {},
   "outputs": [
    {
     "name": "stdout",
     "output_type": "stream",
     "text": [
      "\n",
      "{'In': ['', 'import pprint\\n\\nprint()\\npprint.pprint(locals())'],\n",
      " 'Out': {},\n",
      " '_': '',\n",
      " '__': '',\n",
      " '___': '',\n",
      " '__builtin__': <module 'builtins' (built-in)>,\n",
      " '__builtins__': <module 'builtins' (built-in)>,\n",
      " '__doc__': 'Automatically created module for IPython interactive environment',\n",
      " '__loader__': None,\n",
      " '__name__': '__main__',\n",
      " '__package__': None,\n",
      " '__spec__': None,\n",
      " '_dh': ['/workspace/Python'],\n",
      " '_i': '',\n",
      " '_i1': 'import pprint\\n\\nprint()\\npprint.pprint(locals())',\n",
      " '_ih': ['', 'import pprint\\n\\nprint()\\npprint.pprint(locals())'],\n",
      " '_ii': '',\n",
      " '_iii': '',\n",
      " '_oh': {},\n",
      " 'exit': <IPython.core.autocall.ZMQExitAutocall object at 0x7f00f4f44c50>,\n",
      " 'get_ipython': <bound method InteractiveShell.get_ipython of <ipykernel.zmqshell.ZMQInteractiveShell object at 0x7f00f5fcee10>>,\n",
      " 'pprint': <module 'pprint' from '/usr/local/lib/python3.7/pprint.py'>,\n",
      " 'quit': <IPython.core.autocall.ZMQExitAutocall object at 0x7f00f4f44c50>}\n"
     ]
    }
   ],
   "source": [
    "import pprint\n",
    "\n",
    "print()\n",
    "pprint.pprint(locals())"
   ]
  },
  {
   "cell_type": "code",
   "execution_count": null,
   "metadata": {},
   "outputs": [],
   "source": []
  }
 ],
 "metadata": {
  "kernelspec": {
   "display_name": "Python 3",
   "language": "python",
   "name": "python3"
  },
  "language_info": {
   "codemirror_mode": {
    "name": "ipython",
    "version": 3
   },
   "file_extension": ".py",
   "mimetype": "text/x-python",
   "name": "python",
   "nbconvert_exporter": "python",
   "pygments_lexer": "ipython3",
   "version": "3.7.4"
  }
 },
 "nbformat": 4,
 "nbformat_minor": 4
}
